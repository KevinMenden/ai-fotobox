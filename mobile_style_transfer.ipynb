{
 "cells": [
  {
   "cell_type": "code",
   "execution_count": 1,
   "id": "cutting-university",
   "metadata": {},
   "outputs": [],
   "source": [
    "import torch.nn as nn\n",
    "import torch\n",
    "\n",
    "import utils\n",
    "from vgg import Vgg16\n",
    "\n",
    "import argparse\n",
    "import os\n",
    "import sys\n",
    "import time\n",
    "import re\n",
    "''\n",
    "import numpy as np\n",
    "import torch\n",
    "from torch.optim import Adam\n",
    "from torch.utils.data import DataLoader\n",
    "from torchvision import datasets\n",
    "from torchvision import transforms\n",
    "import torch.onnx\n",
    "\n",
    "from MobileStyleNet import MobileStyleNet\n",
    "from transformer_net import TransformerNet\n",
    "import torch.autograd.profiler as profiler"
   ]
  },
  {
   "cell_type": "code",
   "execution_count": 2,
   "id": "joined-prescription",
   "metadata": {},
   "outputs": [
    {
     "data": {
      "text/plain": [
       "tensor([[[[-0.3234, -0.8915, -0.3468,  ..., -0.5997,  0.0661, -0.4455],\n",
       "          [-0.4115, -0.7342, -0.5517,  ..., -0.6160, -0.4807, -0.7328],\n",
       "          [-0.4218, -0.6166, -0.4249,  ..., -0.4423, -0.1550, -1.0208],\n",
       "          ...,\n",
       "          [-0.6320, -0.6064, -0.6522,  ..., -0.4617, -0.2905, -0.0110],\n",
       "          [-0.2738, -0.6949, -0.3121,  ..., -0.0756, -0.1705,  0.5775],\n",
       "          [-0.7915, -0.8221, -0.6593,  ..., -0.0921, -0.5124,  0.1107]],\n",
       "\n",
       "         [[ 0.7309, -0.0973, -0.1697,  ...,  0.4622,  0.4867,  0.0511],\n",
       "          [ 0.0990,  0.3719,  0.4291,  ...,  0.5338,  0.6029,  0.0825],\n",
       "          [ 0.0463, -0.0603,  0.5326,  ...,  0.8698,  0.5337,  0.7298],\n",
       "          ...,\n",
       "          [ 0.3435,  0.1452,  0.6654,  ...,  0.9428,  0.5697,  0.2085],\n",
       "          [ 0.6817,  0.0702,  0.0489,  ..., -0.1669,  0.3009,  0.0747],\n",
       "          [ 0.5535,  0.2660, -0.0136,  ...,  0.1331,  0.0502,  0.3991]],\n",
       "\n",
       "         [[-0.2663,  0.2883, -0.2050,  ..., -0.0705,  0.3005,  0.4059],\n",
       "          [-0.4334,  0.4653, -0.4303,  ..., -0.3147,  0.2454, -0.0736],\n",
       "          [ 0.4822,  0.4296,  0.4401,  ...,  0.2152,  0.2537, -0.4421],\n",
       "          ...,\n",
       "          [ 0.1059,  0.2351, -0.3450,  ..., -0.0459,  0.1374,  0.1284],\n",
       "          [-0.5635, -0.1644,  0.0268,  ..., -0.6847, -0.9045, -0.5499],\n",
       "          [ 0.4813,  0.1286,  0.4350,  ..., -0.0137, -0.3433, -0.4964]]]],\n",
       "       grad_fn=<MkldnnConvolutionBackward>)"
      ]
     },
     "execution_count": 2,
     "metadata": {},
     "output_type": "execute_result"
    }
   ],
   "source": [
    "device = \"cpu\"\n",
    "model = MobileStyleNet().to(device)\n",
    "img = torch.rand((1, 3, 256, 256)).to(device)\n",
    "model(img)"
   ]
  },
  {
   "cell_type": "code",
   "execution_count": 4,
   "id": "dirty-bahamas",
   "metadata": {},
   "outputs": [
    {
     "name": "stdout",
     "output_type": "stream",
     "text": [
      "96.6 ms ± 4.02 ms per loop (mean ± std. dev. of 7 runs, 10 loops each)\n"
     ]
    }
   ],
   "source": [
    "%%timeit\n",
    "model(img)"
   ]
  },
  {
   "cell_type": "markdown",
   "id": "compatible-mailman",
   "metadata": {},
   "source": [
    "# Style Transfer"
   ]
  },
  {
   "cell_type": "code",
   "execution_count": 7,
   "id": "unauthorized-local",
   "metadata": {},
   "outputs": [],
   "source": [
    "device = \"cuda\"\n",
    "model_name = \"model_mobile_5e\"\n",
    "content_image = utils.load_image(\"/home/kevin/Pictures/neuseeland.jpg\", scale=2)\n",
    "\n",
    "content_transform = transforms.Compose([\n",
    "    transforms.Resize((512, 1024)),\n",
    "    transforms.ToTensor(),\n",
    "    transforms.Lambda(lambda x: x.mul(255))\n",
    "])\n",
    "content_image = content_transform(content_image).unsqueeze(0).to(device)\n",
    "\n",
    "with torch.no_grad():\n",
    "    model = MobileStyleNet()\n",
    "    state_dict = torch.load(model_name)\n",
    "    # remove saved deprecated running_* keys in InstanceNorm from the checkpoint\n",
    "    for k in list(state_dict.keys()):\n",
    "        if re.search(r'in\\d+\\.running_(mean|var)$', k):\n",
    "            del state_dict[k]\n",
    "    model.load_state_dict(state_dict)\n",
    "    model.to(device)\n",
    "    output = model(content_image).cpu()\n",
    "    \n",
    "utils.save_image(\"test4.jpg\", output[0])"
   ]
  },
  {
   "cell_type": "markdown",
   "id": "revised-drain",
   "metadata": {},
   "source": [
    "# Performance Measurement"
   ]
  },
  {
   "cell_type": "code",
   "execution_count": 2,
   "id": "sunrise-disorder",
   "metadata": {},
   "outputs": [],
   "source": [
    "device = \"cpu\"\n",
    "model = TransformerNet().to(device)\n",
    "img = torch.rand((1, 3, 256, 256)).to(device)"
   ]
  },
  {
   "cell_type": "code",
   "execution_count": 3,
   "id": "inclusive-piano",
   "metadata": {},
   "outputs": [
    {
     "name": "stdout",
     "output_type": "stream",
     "text": [
      "182 ms ± 24.4 ms per loop (mean ± std. dev. of 7 runs, 1 loop each)\n"
     ]
    }
   ],
   "source": [
    "%%timeit\n",
    "model(img)"
   ]
  },
  {
   "cell_type": "markdown",
   "id": "furnished-russia",
   "metadata": {},
   "source": [
    "### Mobilenet"
   ]
  },
  {
   "cell_type": "code",
   "execution_count": 4,
   "id": "naval-trinity",
   "metadata": {},
   "outputs": [],
   "source": [
    "mobilenet = MobileStyleNet().to(device)"
   ]
  },
  {
   "cell_type": "code",
   "execution_count": 5,
   "id": "seventh-gospel",
   "metadata": {},
   "outputs": [
    {
     "name": "stdout",
     "output_type": "stream",
     "text": [
      "102 ms ± 4.73 ms per loop (mean ± std. dev. of 7 runs, 10 loops each)\n"
     ]
    }
   ],
   "source": [
    "%%timeit\n",
    "mobilenet(img)"
   ]
  },
  {
   "cell_type": "code",
   "execution_count": 5,
   "id": "confident-zealand",
   "metadata": {},
   "outputs": [
    {
     "name": "stdout",
     "output_type": "stream",
     "text": [
      "--------------------------------  ------------  ------------  ------------  ------------  ------------  ------------  \n",
      "                            Name    Self CPU %      Self CPU   CPU total %     CPU total  CPU time avg    # of Calls  \n",
      "--------------------------------  ------------  ------------  ------------  ------------  ------------  ------------  \n",
      "                 model_inference         1.62%       3.244ms        99.98%     200.688ms     200.688ms             1  \n",
      "                    aten::conv2d         0.05%     101.101us        63.96%     128.381ms       8.024ms            16  \n",
      "               aten::convolution         0.05%     108.442us        63.91%     128.279ms       8.017ms            16  \n",
      "              aten::_convolution         0.14%     290.809us        63.85%     128.171ms       8.011ms            16  \n",
      "        aten::mkldnn_convolution        63.61%     127.685ms        63.70%     127.855ms       7.991ms            16  \n",
      "          aten::reflection_pad2d        21.61%      43.373ms        21.67%      43.500ms       2.719ms            16  \n",
      "             aten::instance_norm         0.19%     378.520us         8.04%      16.131ms       1.075ms            15  \n",
      "                aten::batch_norm         0.03%      58.932us         7.11%      14.262ms     950.775us            15  \n",
      "    aten::_batch_norm_impl_index         0.05%      97.402us         7.08%      14.203ms     946.846us            15  \n",
      "         aten::native_batch_norm         5.56%      11.161ms         7.01%      14.062ms     937.463us            15  \n",
      "--------------------------------  ------------  ------------  ------------  ------------  ------------  ------------  \n",
      "Self CPU time total: 200.725ms\n",
      "\n"
     ]
    }
   ],
   "source": [
    "with profiler.profile(record_shapes=True) as prof:\n",
    "    with profiler.record_function(\"model_inference\"):\n",
    "        model(img)\n",
    "print(prof.key_averages().table(sort_by=\"cpu_time_total\", row_limit=10))"
   ]
  },
  {
   "cell_type": "code",
   "execution_count": 6,
   "id": "parliamentary-minute",
   "metadata": {},
   "outputs": [
    {
     "name": "stdout",
     "output_type": "stream",
     "text": [
      "--------------------------------  ------------  ------------  ------------  ------------  ------------  ------------  \n",
      "                            Name    Self CPU %      Self CPU   CPU total %     CPU total  CPU time avg    # of Calls  \n",
      "--------------------------------  ------------  ------------  ------------  ------------  ------------  ------------  \n",
      "                 model_inference         1.68%       2.628ms        99.98%     156.315ms     156.315ms             1  \n",
      "                    aten::conv2d         0.05%      84.772us        56.31%      88.044ms       5.870ms            15  \n",
      "               aten::convolution         0.06%      87.785us        56.26%      87.959ms       5.864ms            15  \n",
      "              aten::_convolution         0.15%     233.064us        56.20%      87.871ms       5.858ms            15  \n",
      "        aten::mkldnn_convolution        55.95%      87.471ms        56.04%      87.619ms       5.841ms            15  \n",
      "          aten::reflection_pad2d        14.87%      23.250ms        14.89%      23.286ms       7.762ms             3  \n",
      "        aten::upsample_nearest2d        13.44%      21.013ms        13.44%      21.018ms      21.018ms             1  \n",
      "             aten::instance_norm         0.15%     230.908us        10.11%      15.806ms       1.129ms            14  \n",
      "                aten::batch_norm         0.04%      63.621us         9.04%      14.130ms       1.009ms            14  \n",
      "    aten::_batch_norm_impl_index         0.05%      85.893us         9.00%      14.066ms       1.005ms            14  \n",
      "--------------------------------  ------------  ------------  ------------  ------------  ------------  ------------  \n",
      "Self CPU time total: 156.350ms\n",
      "\n"
     ]
    }
   ],
   "source": [
    "with profiler.profile(record_shapes=True) as prof:\n",
    "    with profiler.record_function(\"model_inference\"):\n",
    "        mobilenet(img)\n",
    "print(prof.key_averages().table(sort_by=\"cpu_time_total\", row_limit=10))"
   ]
  },
  {
   "cell_type": "code",
   "execution_count": null,
   "id": "boxed-sapphire",
   "metadata": {},
   "outputs": [],
   "source": []
  }
 ],
 "metadata": {
  "kernelspec": {
   "display_name": "Python [conda env:food-recognition] *",
   "language": "python",
   "name": "conda-env-food-recognition-py"
  },
  "language_info": {
   "codemirror_mode": {
    "name": "ipython",
    "version": 3
   },
   "file_extension": ".py",
   "mimetype": "text/x-python",
   "name": "python",
   "nbconvert_exporter": "python",
   "pygments_lexer": "ipython3",
   "version": "3.8.6"
  }
 },
 "nbformat": 4,
 "nbformat_minor": 5
}
